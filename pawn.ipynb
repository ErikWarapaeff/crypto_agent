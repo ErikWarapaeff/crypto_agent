{
 "cells": [
  {
   "cell_type": "code",
   "execution_count": 1,
   "id": "5495e5d1",
   "metadata": {},
   "outputs": [
    {
     "name": "stdout",
     "output_type": "stream",
     "text": [
      "Collecting pawn-ai\n",
      "  Using cached pawn_ai-0.0.2-py3-none-any.whl.metadata (6.3 kB)\n",
      "Collecting langgraph-supervisor==0.0.16 (from pawn-ai)\n",
      "  Using cached langgraph_supervisor-0.0.16-py3-none-any.whl.metadata (11 kB)\n",
      "Requirement already satisfied: langgraph<0.4.0,>=0.3.5 in c:\\users\\erik\\documents\\vscode\\crypto_agent\\.venv\\lib\\site-packages (from langgraph-supervisor==0.0.16->pawn-ai) (0.3.33)\n",
      "Requirement already satisfied: langgraph-prebuilt<0.2.0,>=0.1.7 in c:\\users\\erik\\documents\\vscode\\crypto_agent\\.venv\\lib\\site-packages (from langgraph-supervisor==0.0.16->pawn-ai) (0.1.8)\n",
      "Requirement already satisfied: langchain-core<0.4.0,>=0.3.40 in c:\\users\\erik\\documents\\vscode\\crypto_agent\\.venv\\lib\\site-packages (from langgraph-supervisor==0.0.16->pawn-ai) (0.3.55)\n",
      "Requirement already satisfied: langsmith<0.4,>=0.1.125 in c:\\users\\erik\\documents\\vscode\\crypto_agent\\.venv\\lib\\site-packages (from langchain-core<0.4.0,>=0.3.40->langgraph-supervisor==0.0.16->pawn-ai) (0.3.35)\n",
      "Requirement already satisfied: tenacity!=8.4.0,<10.0.0,>=8.1.0 in c:\\users\\erik\\documents\\vscode\\crypto_agent\\.venv\\lib\\site-packages (from langchain-core<0.4.0,>=0.3.40->langgraph-supervisor==0.0.16->pawn-ai) (9.1.2)\n",
      "Requirement already satisfied: jsonpatch<2.0,>=1.33 in c:\\users\\erik\\documents\\vscode\\crypto_agent\\.venv\\lib\\site-packages (from langchain-core<0.4.0,>=0.3.40->langgraph-supervisor==0.0.16->pawn-ai) (1.33)\n",
      "Requirement already satisfied: PyYAML>=5.3 in c:\\users\\erik\\documents\\vscode\\crypto_agent\\.venv\\lib\\site-packages (from langchain-core<0.4.0,>=0.3.40->langgraph-supervisor==0.0.16->pawn-ai) (6.0.2)\n",
      "Requirement already satisfied: packaging<25,>=23.2 in c:\\users\\erik\\documents\\vscode\\crypto_agent\\.venv\\lib\\site-packages (from langchain-core<0.4.0,>=0.3.40->langgraph-supervisor==0.0.16->pawn-ai) (24.2)\n",
      "Requirement already satisfied: typing-extensions>=4.7 in c:\\users\\erik\\documents\\vscode\\crypto_agent\\.venv\\lib\\site-packages (from langchain-core<0.4.0,>=0.3.40->langgraph-supervisor==0.0.16->pawn-ai) (4.13.2)\n",
      "Requirement already satisfied: pydantic<3.0.0,>=2.7.4 in c:\\users\\erik\\documents\\vscode\\crypto_agent\\.venv\\lib\\site-packages (from langchain-core<0.4.0,>=0.3.40->langgraph-supervisor==0.0.16->pawn-ai) (2.11.3)\n",
      "Requirement already satisfied: langgraph-checkpoint<3.0.0,>=2.0.10 in c:\\users\\erik\\documents\\vscode\\crypto_agent\\.venv\\lib\\site-packages (from langgraph<0.4.0,>=0.3.5->langgraph-supervisor==0.0.16->pawn-ai) (2.0.24)\n",
      "Requirement already satisfied: langgraph-sdk<0.2.0,>=0.1.42 in c:\\users\\erik\\documents\\vscode\\crypto_agent\\.venv\\lib\\site-packages (from langgraph<0.4.0,>=0.3.5->langgraph-supervisor==0.0.16->pawn-ai) (0.1.63)\n",
      "Requirement already satisfied: xxhash<4.0.0,>=3.5.0 in c:\\users\\erik\\documents\\vscode\\crypto_agent\\.venv\\lib\\site-packages (from langgraph<0.4.0,>=0.3.5->langgraph-supervisor==0.0.16->pawn-ai) (3.5.0)\n",
      "Requirement already satisfied: jsonpointer>=1.9 in c:\\users\\erik\\documents\\vscode\\crypto_agent\\.venv\\lib\\site-packages (from jsonpatch<2.0,>=1.33->langchain-core<0.4.0,>=0.3.40->langgraph-supervisor==0.0.16->pawn-ai) (3.0.0)\n",
      "Requirement already satisfied: ormsgpack<2.0.0,>=1.8.0 in c:\\users\\erik\\documents\\vscode\\crypto_agent\\.venv\\lib\\site-packages (from langgraph-checkpoint<3.0.0,>=2.0.10->langgraph<0.4.0,>=0.3.5->langgraph-supervisor==0.0.16->pawn-ai) (1.9.1)\n",
      "Requirement already satisfied: httpx>=0.25.2 in c:\\users\\erik\\documents\\vscode\\crypto_agent\\.venv\\lib\\site-packages (from langgraph-sdk<0.2.0,>=0.1.42->langgraph<0.4.0,>=0.3.5->langgraph-supervisor==0.0.16->pawn-ai) (0.28.1)\n",
      "Requirement already satisfied: orjson>=3.10.1 in c:\\users\\erik\\documents\\vscode\\crypto_agent\\.venv\\lib\\site-packages (from langgraph-sdk<0.2.0,>=0.1.42->langgraph<0.4.0,>=0.3.5->langgraph-supervisor==0.0.16->pawn-ai) (3.10.16)\n",
      "Requirement already satisfied: requests<3,>=2 in c:\\users\\erik\\documents\\vscode\\crypto_agent\\.venv\\lib\\site-packages (from langsmith<0.4,>=0.1.125->langchain-core<0.4.0,>=0.3.40->langgraph-supervisor==0.0.16->pawn-ai) (2.32.3)\n",
      "Requirement already satisfied: requests-toolbelt<2.0.0,>=1.0.0 in c:\\users\\erik\\documents\\vscode\\crypto_agent\\.venv\\lib\\site-packages (from langsmith<0.4,>=0.1.125->langchain-core<0.4.0,>=0.3.40->langgraph-supervisor==0.0.16->pawn-ai) (1.0.0)\n",
      "Requirement already satisfied: zstandard<0.24.0,>=0.23.0 in c:\\users\\erik\\documents\\vscode\\crypto_agent\\.venv\\lib\\site-packages (from langsmith<0.4,>=0.1.125->langchain-core<0.4.0,>=0.3.40->langgraph-supervisor==0.0.16->pawn-ai) (0.23.0)\n",
      "Requirement already satisfied: annotated-types>=0.6.0 in c:\\users\\erik\\documents\\vscode\\crypto_agent\\.venv\\lib\\site-packages (from pydantic<3.0.0,>=2.7.4->langchain-core<0.4.0,>=0.3.40->langgraph-supervisor==0.0.16->pawn-ai) (0.7.0)\n",
      "Requirement already satisfied: pydantic-core==2.33.1 in c:\\users\\erik\\documents\\vscode\\crypto_agent\\.venv\\lib\\site-packages (from pydantic<3.0.0,>=2.7.4->langchain-core<0.4.0,>=0.3.40->langgraph-supervisor==0.0.16->pawn-ai) (2.33.1)\n",
      "Requirement already satisfied: typing-inspection>=0.4.0 in c:\\users\\erik\\documents\\vscode\\crypto_agent\\.venv\\lib\\site-packages (from pydantic<3.0.0,>=2.7.4->langchain-core<0.4.0,>=0.3.40->langgraph-supervisor==0.0.16->pawn-ai) (0.4.0)\n",
      "Requirement already satisfied: anyio in c:\\users\\erik\\documents\\vscode\\crypto_agent\\.venv\\lib\\site-packages (from httpx>=0.25.2->langgraph-sdk<0.2.0,>=0.1.42->langgraph<0.4.0,>=0.3.5->langgraph-supervisor==0.0.16->pawn-ai) (4.9.0)\n",
      "Requirement already satisfied: certifi in c:\\users\\erik\\documents\\vscode\\crypto_agent\\.venv\\lib\\site-packages (from httpx>=0.25.2->langgraph-sdk<0.2.0,>=0.1.42->langgraph<0.4.0,>=0.3.5->langgraph-supervisor==0.0.16->pawn-ai) (2025.1.31)\n",
      "Requirement already satisfied: httpcore==1.* in c:\\users\\erik\\documents\\vscode\\crypto_agent\\.venv\\lib\\site-packages (from httpx>=0.25.2->langgraph-sdk<0.2.0,>=0.1.42->langgraph<0.4.0,>=0.3.5->langgraph-supervisor==0.0.16->pawn-ai) (1.0.9)\n",
      "Requirement already satisfied: idna in c:\\users\\erik\\documents\\vscode\\crypto_agent\\.venv\\lib\\site-packages (from httpx>=0.25.2->langgraph-sdk<0.2.0,>=0.1.42->langgraph<0.4.0,>=0.3.5->langgraph-supervisor==0.0.16->pawn-ai) (3.10)\n",
      "Requirement already satisfied: h11>=0.16 in c:\\users\\erik\\documents\\vscode\\crypto_agent\\.venv\\lib\\site-packages (from httpcore==1.*->httpx>=0.25.2->langgraph-sdk<0.2.0,>=0.1.42->langgraph<0.4.0,>=0.3.5->langgraph-supervisor==0.0.16->pawn-ai) (0.16.0)\n",
      "Requirement already satisfied: charset-normalizer<4,>=2 in c:\\users\\erik\\documents\\vscode\\crypto_agent\\.venv\\lib\\site-packages (from requests<3,>=2->langsmith<0.4,>=0.1.125->langchain-core<0.4.0,>=0.3.40->langgraph-supervisor==0.0.16->pawn-ai) (3.4.1)\n",
      "Requirement already satisfied: urllib3<3,>=1.21.1 in c:\\users\\erik\\documents\\vscode\\crypto_agent\\.venv\\lib\\site-packages (from requests<3,>=2->langsmith<0.4,>=0.1.125->langchain-core<0.4.0,>=0.3.40->langgraph-supervisor==0.0.16->pawn-ai) (2.4.0)\n",
      "Requirement already satisfied: sniffio>=1.1 in c:\\users\\erik\\documents\\vscode\\crypto_agent\\.venv\\lib\\site-packages (from anyio->httpx>=0.25.2->langgraph-sdk<0.2.0,>=0.1.42->langgraph<0.4.0,>=0.3.5->langgraph-supervisor==0.0.16->pawn-ai) (1.3.1)\n",
      "Using cached pawn_ai-0.0.2-py3-none-any.whl (14 kB)\n",
      "Using cached langgraph_supervisor-0.0.16-py3-none-any.whl (12 kB)\n",
      "Installing collected packages: langgraph-supervisor, pawn-ai\n",
      "Successfully installed langgraph-supervisor-0.0.16 pawn-ai-0.0.2\n",
      "Note: you may need to restart the kernel to use updated packages.\n"
     ]
    },
    {
     "name": "stderr",
     "output_type": "stream",
     "text": [
      "\n",
      "[notice] A new release of pip is available: 24.3.1 -> 25.0.1\n",
      "[notice] To update, run: python.exe -m pip install --upgrade pip\n"
     ]
    }
   ],
   "source": [
    "pip install pawn-ai"
   ]
  }
 ],
 "metadata": {
  "kernelspec": {
   "display_name": ".venv",
   "language": "python",
   "name": "python3"
  },
  "language_info": {
   "codemirror_mode": {
    "name": "ipython",
    "version": 3
   },
   "file_extension": ".py",
   "mimetype": "text/x-python",
   "name": "python",
   "nbconvert_exporter": "python",
   "pygments_lexer": "ipython3",
   "version": "3.13.1"
  }
 },
 "nbformat": 4,
 "nbformat_minor": 5
}
